{
  "nbformat": 4,
  "nbformat_minor": 0,
  "metadata": {
    "colab": {
      "provenance": [],
      "authorship_tag": "ABX9TyNMuGX8m7R9i4AoyqBXAakh",
      "include_colab_link": true
    },
    "kernelspec": {
      "name": "python3",
      "display_name": "Python 3"
    },
    "language_info": {
      "name": "python"
    }
  },
  "cells": [
    {
      "cell_type": "markdown",
      "metadata": {
        "id": "view-in-github",
        "colab_type": "text"
      },
      "source": [
        "<a href=\"https://colab.research.google.com/github/rciambarella/My_Fourth_LLM/blob/main/Imers%C3%A3oIA_aula03_jogoadvinha.ipynb\" target=\"_parent\"><img src=\"https://colab.research.google.com/assets/colab-badge.svg\" alt=\"Open In Colab\"/></a>"
      ]
    },
    {
      "cell_type": "code",
      "execution_count": null,
      "metadata": {
        "colab": {
          "base_uri": "https://localhost:8080/"
        },
        "id": "3csOZycc0ISm",
        "outputId": "8bfb1829-34a0-4873-ad87-2b4f97b7b99b"
      },
      "outputs": [
        {
          "output_type": "stream",
          "name": "stdout",
          "text": [
            "a palavra tem 5 letras e a Dica é desenvolver, implantar e gerenciar aplicativos em uma plataforma de nuvem da microsoft.\n",
            "Qual é a palavra secreta?cloud\n",
            "*** Errou!... A palavra seeta é azure \n"
          ]
        }
      ],
      "source": [
        "import requests\n",
        "import random\n",
        "\n",
        "url = \"https://raw.githubusercontent.com/guilhermeonrails/api-imersao-ia/main/words.json\"\n",
        "\n",
        "resposta = requests.get(url)\n",
        "data = resposta.json()\n",
        "len(data)\n",
        "\n",
        "valor_Secreto = random.choice(data)\n",
        "palavra_Secreta = valor_Secreto['palavra']\n",
        "dica = valor_Secreto['dica']\n",
        "\n",
        "print(f'a palavra tem {len(palavra_Secreta)} letras e a Dica é {dica}')\n",
        "\n",
        "palpite = input('Qual é a palavra secreta?')\n",
        "\n",
        "if palpite == palavra_Secreta:\n",
        "  print('ACERTOU!!!!!')\n",
        "else:\n",
        "  print(f'*** Errou!... A palavra secreta é {palavra_Secreta} ')"
      ]
    },
    {
      "cell_type": "code",
      "source": [],
      "metadata": {
        "id": "URlQe6Eb4YUs"
      },
      "execution_count": null,
      "outputs": []
    }
  ]
}